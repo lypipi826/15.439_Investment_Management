{
 "cells": [
  {
   "cell_type": "markdown",
   "metadata": {},
   "source": [
    "# Q1\n",
    "## Use of PERMNO vs. TICKERS:\n",
    "\n",
    "PERMNO is a unique identifier assigned by the Center for Research in Security Prices (CRSP) to each security in the market. It is used in academic and research settings because it provides a consistent way to track securities over time, regardless of changes in ticker symbols, company names, or corporate actions such as mergers and acquisitions. This consistency is crucial for historical analysis over long periods, as it allows for the unambiguous identification of securities.\n",
    "\n",
    "TICKERS, on the other hand, are symbols assigned to securities traded on public exchanges. These can change over time due to various reasons, such as rebranding, mergers, or moving between exchanges, which can create confusion in longitudinal studies.\n",
    "\n",
    "The choice of PERMNO over tickers for the dataset is likely aimed at ensuring consistency and accuracy in tracking the performance and characteristics of securities over time, especially in a dataset that spans several years.\n",
    "\n",
    "# Q2\n",
    "## Discrepancies between One-Month Price Change and PRC Column:\n",
    "\n",
    "a. This discrepancy is not necessarily a data error. The PRC column typically represents the end-of-month stock price, while the one-month percent change in price is calculated based on the price change from the previous month to the current month. Several factors can cause these numbers to diverge, including stock splits, dividends, and other corporate actions that affect the stock price but are not reflected in the simple price listed.\n",
    "\n",
    "b. For some companies, these columns may always be equal due to the absence of such corporate actions during the period in question or because the stock's price changes purely reflect market trading without external adjustments. This uniformity could also be seen in companies with stable dividend policies or those that did not undergo any stock splits or similar adjustments during the period.\n",
    "\n",
    "# Q3\n",
    "## Variability in the Number of Companies:\n",
    "\n",
    "The number of companies in the S&P 500 index does not always precisely equal 500 due to several factors, including mergers, acquisitions, bankruptcies, and the addition or removal of companies based on the market capitalization criteria set by the index. These events can cause the number of constituents to fluctuate temporarily until adjustments are made.\n",
    "\n",
    "It's not a mistake but reflects the dynamic nature of the stock market and the index's composition adjustments to maintain its representation of the U.S. economy's leading companies."
   ]
  },
  {
   "cell_type": "markdown",
   "metadata": {},
   "source": [
    "# Q4\n",
    "\n",
    "## 303 companies are present over the entire sample \n",
    "## 761 unique companies are in the sample"
   ]
  },
  {
   "cell_type": "code",
   "execution_count": 17,
   "metadata": {},
   "outputs": [
    {
     "data": {
      "text/html": [
       "<div>\n",
       "<style scoped>\n",
       "    .dataframe tbody tr th:only-of-type {\n",
       "        vertical-align: middle;\n",
       "    }\n",
       "\n",
       "    .dataframe tbody tr th {\n",
       "        vertical-align: top;\n",
       "    }\n",
       "\n",
       "    .dataframe thead th {\n",
       "        text-align: right;\n",
       "    }\n",
       "</style>\n",
       "<table border=\"1\" class=\"dataframe\">\n",
       "  <thead>\n",
       "    <tr style=\"text-align: right;\">\n",
       "      <th></th>\n",
       "      <th>permno</th>\n",
       "      <th>date</th>\n",
       "      <th>price</th>\n",
       "      <th>shrout</th>\n",
       "      <th>prc</th>\n",
       "      <th>mcap</th>\n",
       "    </tr>\n",
       "  </thead>\n",
       "  <tbody>\n",
       "    <tr>\n",
       "      <th>0</th>\n",
       "      <td>43449</td>\n",
       "      <td>2011-01-31</td>\n",
       "      <td>73.67</td>\n",
       "      <td>1056507</td>\n",
       "      <td>-0.040255</td>\n",
       "      <td>77832870.69</td>\n",
       "    </tr>\n",
       "    <tr>\n",
       "      <th>1</th>\n",
       "      <td>13688</td>\n",
       "      <td>2011-01-31</td>\n",
       "      <td>46.28</td>\n",
       "      <td>392066</td>\n",
       "      <td>-0.032609</td>\n",
       "      <td>18144814.48</td>\n",
       "    </tr>\n",
       "    <tr>\n",
       "      <th>2</th>\n",
       "      <td>90071</td>\n",
       "      <td>2011-01-31</td>\n",
       "      <td>20.75</td>\n",
       "      <td>247197</td>\n",
       "      <td>0.061924</td>\n",
       "      <td>5129337.75</td>\n",
       "    </tr>\n",
       "    <tr>\n",
       "      <th>3</th>\n",
       "      <td>86580</td>\n",
       "      <td>2011-01-31</td>\n",
       "      <td>23.92</td>\n",
       "      <td>588556</td>\n",
       "      <td>0.553247</td>\n",
       "      <td>14078259.52</td>\n",
       "    </tr>\n",
       "    <tr>\n",
       "      <th>4</th>\n",
       "      <td>10225</td>\n",
       "      <td>2011-01-31</td>\n",
       "      <td>61.68</td>\n",
       "      <td>152581</td>\n",
       "      <td>0.023734</td>\n",
       "      <td>9411196.08</td>\n",
       "    </tr>\n",
       "  </tbody>\n",
       "</table>\n",
       "</div>"
      ],
      "text/plain": [
       "   permno       date  price   shrout       prc         mcap\n",
       "0   43449 2011-01-31  73.67  1056507 -0.040255  77832870.69\n",
       "1   13688 2011-01-31  46.28   392066 -0.032609  18144814.48\n",
       "2   90071 2011-01-31  20.75   247197  0.061924   5129337.75\n",
       "3   86580 2011-01-31  23.92   588556  0.553247  14078259.52\n",
       "4   10225 2011-01-31  61.68   152581  0.023734   9411196.08"
      ]
     },
     "metadata": {},
     "output_type": "display_data"
    },
    {
     "data": {
      "text/plain": [
       "(303, 761)"
      ]
     },
     "execution_count": 17,
     "metadata": {},
     "output_type": "execute_result"
    }
   ],
   "source": [
    "import pandas as pd\n",
    "\n",
    "file_path = 'sp500raw.xlsx'\n",
    "sp500_data = pd.read_excel(file_path)\n",
    "sp500_data.drop(columns=['Unnamed: 0'], inplace =True)\n",
    "\n",
    "display(sp500_data.head())\n",
    "\n",
    "date_counts = sp500_data.groupby('permno').size()\n",
    "full_presence_companies = date_counts[date_counts == sp500_data['date'].nunique()]\n",
    "\n",
    "unique_companies = sp500_data['permno'].nunique()\n",
    "\n",
    "(full_presence_companies.count(), unique_companies)"
   ]
  },
  {
   "cell_type": "markdown",
   "metadata": {},
   "source": [
    "# Q5\n",
    "\n"
   ]
  }
 ],
 "metadata": {
  "kernelspec": {
   "display_name": "Python 3",
   "language": "python",
   "name": "python3"
  },
  "language_info": {
   "codemirror_mode": {
    "name": "ipython",
    "version": 3
   },
   "file_extension": ".py",
   "mimetype": "text/x-python",
   "name": "python",
   "nbconvert_exporter": "python",
   "pygments_lexer": "ipython3",
   "version": "3.11.5"
  }
 },
 "nbformat": 4,
 "nbformat_minor": 2
}
